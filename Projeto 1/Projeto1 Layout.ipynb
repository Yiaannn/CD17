{
 "cells": [
  {
   "cell_type": "markdown",
   "metadata": {
    "deletable": true,
    "editable": true
   },
   "source": [
    "___\n",
    "# Ciência dos Dados - PROJETO 1"
   ]
  },
  {
   "cell_type": "markdown",
   "metadata": {
    "deletable": true,
    "editable": true
   },
   "source": [
    "## Alexandre Young Coelho da Costa\n",
    "___"
   ]
  },
  {
   "cell_type": "markdown",
   "metadata": {
    "deletable": true,
    "editable": true
   },
   "source": [
    "## TÍTULO DO SEU PROJETO"
   ]
  },
  {
   "cell_type": "markdown",
   "metadata": {
    "deletable": true,
    "editable": true
   },
   "source": [
    "___\n",
    "## Introdução\n",
    "\n",
    "O objetivo deste estudo é pesquisar a difusão de celulares móveis nos domicílios brasileiros ao longos dos anos de 2013, 2014 e 2015.\n",
    "\n",
    "Partimos da hipótese que haja um aumento da frequência de celulares nos domíclios ao longo dos anos, mas mais interessantemente, que esse aumento seja significativamente maior em domicílios de menor renda"
   ]
  },
  {
   "cell_type": "markdown",
   "metadata": {
    "deletable": true,
    "editable": true
   },
   "source": [
    "___\n",
    "## Análise e Resultados"
   ]
  },
  {
   "cell_type": "code",
   "execution_count": 93,
   "metadata": {
    "collapsed": false,
    "deletable": true,
    "editable": true
   },
   "outputs": [],
   "source": [
    "%matplotlib inline\n",
    "import pandas as pd\n",
    "import matplotlib.pyplot as plt\n",
    "import numpy as np\n",
    "import os"
   ]
  },
  {
   "cell_type": "code",
   "execution_count": 94,
   "metadata": {
    "collapsed": false,
    "deletable": true,
    "editable": true
   },
   "outputs": [
    {
     "name": "stdout",
     "output_type": "stream",
     "text": [
      "Esperamos trabalhar no diretório\n",
      "/home/alexandre/Documents/Insper/2017/CD17/Projeto 1\n"
     ]
    }
   ],
   "source": [
    "print('Esperamos trabalhar no diretório')\n",
    "print(os.getcwd())"
   ]
  },
  {
   "cell_type": "markdown",
   "metadata": {},
   "source": [
    "## Primeira etapa: Separação de variáveis de Interesse\n",
    "\n",
    "Queremos separar as variáveis que nos interessam e com que vamos trabalhar\n",
    "Utilizando as PNADs dos aos de 2013, 2014 e 2015 no estudo, separando os dados relevantes à adoção de telefones móveis e à renda domiciliar\n",
    "\n",
    "A nossa análise faz uso das variáveis do IBGE: ***\"Tem telefone móvel celular\"***, ***\"Tem telefone fixo convencional\"*** e ***\"Rendimento mensal domiciliar para todas as unidades domiciliares (exclusive o rendimento das pessoas cuja condição na unidade domiciliar era pensionista, empregado doméstico ou parente do empregado doméstico e das pessoas de menos de 10 anos de idade)\"***"
   ]
  },
  {
   "cell_type": "code",
   "execution_count": 95,
   "metadata": {
    "collapsed": false,
    "deletable": true,
    "editable": true
   },
   "outputs": [],
   "source": [
    "df13= pd.DataFrame()\n",
    "df14= pd.DataFrame()\n",
    "df15= pd.DataFrame()\n",
    "\n",
    "tmp= pd.read_csv('DOM2013.csv',sep=',')\n",
    "df13['Celular']= tmp.V0220\n",
    "df13['Fixo']= tmp.V2020\n",
    "df13['Rendimento']= tmp.V4621\n",
    "\n",
    "tmp= pd.read_csv('DOM2014.csv',sep=',')\n",
    "df14['Celular']= tmp.V0220\n",
    "df14['Fixo']= tmp.V2020\n",
    "df14['Rendimento']= tmp.V4621\n",
    "\n",
    "tmp= pd.read_csv('DOM2015.csv',sep=',')\n",
    "df15['Celular']= tmp.V0220\n",
    "df15['Fixo']= tmp.V2020\n",
    "df15['Rendimento']= tmp.V4621\n",
    "\n",
    "tmp=None"
   ]
  },
  {
   "cell_type": "code",
   "execution_count": 96,
   "metadata": {
    "collapsed": false,
    "deletable": true,
    "editable": true
   },
   "outputs": [],
   "source": [
    "#Filtrando o dataframe:\n",
    "\n",
    "#1. Substituir osvalores 2.0 e 4.0 nas colunas \"celular\" e \"fixo\"--\n",
    "#--com \"Presente\"  e \"Ausente\" respectivamente\n",
    "df13['Celular']= df13['Celular'].map({2.0: \"Presente\", 4.0: \"Ausente\"})\n",
    "df14['Celular']= df13['Celular'].map({2.0: \"Presente\", 4.0: \"Ausente\"})\n",
    "df15['Celular']= df13['Celular'].map({2.0: \"Presente\", 4.0: \"Ausente\"})\n",
    "df13['Fixo']= df13['Fixo'].map({2.0: \"Presente\", 4.0: \"Ausente\"})\n",
    "df14['Fixo']= df13['Fixo'].map({2.0: \"Presente\", 4.0: \"Ausente\"})\n",
    "df15['Fixo']= df13['Fixo'].map({2.0: \"Presente\", 4.0: \"Ausente\"})\n",
    "\n",
    "#2. Remover as linhas na coluna \"rendimento\" com valor 999999999999 (sem declaração)\n",
    "df13= df13[df13['Rendimento'] != 999999999999]\n",
    "df14= df14[df14['Rendimento'] != 999999999999]\n",
    "df15= df15[df15['Rendimento'] != 999999999999]\n",
    "\n",
    "#3. Remover as linhas com qualquer valor NaN\n",
    "df13= df13.dropna()\n",
    "df14= df14.dropna()\n",
    "df15= df15.dropna()"
   ]
  },
  {
   "cell_type": "code",
   "execution_count": 97,
   "metadata": {
    "collapsed": false
   },
   "outputs": [],
   "source": [
    "#Tenho em iteresse"
   ]
  },
  {
   "cell_type": "markdown",
   "metadata": {
    "deletable": true,
    "editable": true
   },
   "source": [
    "___\n",
    "## Conclusão "
   ]
  },
  {
   "cell_type": "markdown",
   "metadata": {
    "collapsed": true,
    "deletable": true,
    "editable": true
   },
   "source": [
    "Descreva aqui suas conclusões!"
   ]
  },
  {
   "cell_type": "code",
   "execution_count": null,
   "metadata": {
    "collapsed": true,
    "deletable": true,
    "editable": true
   },
   "outputs": [],
   "source": []
  }
 ],
 "metadata": {
  "anaconda-cloud": {},
  "kernelspec": {
   "display_name": "Python 3",
   "language": "python",
   "name": "python3"
  },
  "language_info": {
   "codemirror_mode": {
    "name": "ipython",
    "version": 3
   },
   "file_extension": ".py",
   "mimetype": "text/x-python",
   "name": "python",
   "nbconvert_exporter": "python",
   "pygments_lexer": "ipython3",
   "version": "3.5.2"
  }
 },
 "nbformat": 4,
 "nbformat_minor": 1
}
